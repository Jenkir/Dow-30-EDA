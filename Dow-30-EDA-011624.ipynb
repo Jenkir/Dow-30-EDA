{
 "cells": [
  {
   "cell_type": "code",
   "execution_count": 1,
   "id": "f265686e",
   "metadata": {},
   "outputs": [],
   "source": [
    "# see https://towardsdatascience.com/exploratory-data-analysis-in-python-a-step-by-step-process-d0dfa6bf94ee"
   ]
  },
  {
   "cell_type": "code",
   "execution_count": 2,
   "id": "ed70830a",
   "metadata": {},
   "outputs": [],
   "source": [
    "# libraries for EDA (Exploratory Data Analysis)\n",
    "\n",
    "# data manipulation\n",
    "import pandas as pd\n",
    "import numpy as np\n",
    "\n",
    "# data viz\n",
    "import matplotlib.pyplot as plt\n",
    "from matplotlib import rcParams\n",
    "import seaborn as sns\n",
    "\n",
    "# apply styling\n",
    "plt.style.use(\"ggplot\")\n",
    "rcParams['figure.figsize'] = (12,6)\n",
    "\n",
    "# use sklearn to import a dataset\n",
    "# from sklearn.datasets import load_wine\n",
    "\n",
    "import requests\n",
    "import json\n",
    "from pandas import json_normalize\n",
    "from pprint import pprint"
   ]
  },
  {
   "cell_type": "code",
   "execution_count": 3,
   "id": "8c98d9df",
   "metadata": {},
   "outputs": [],
   "source": [
    "# Step 1: Import dataset\n",
    "# The data analysis pipeliine begins with the import or creation of a working dataset\n",
    "# The exploratory analysis phase begins immediately after"
   ]
  },
  {
   "cell_type": "code",
   "execution_count": 4,
   "id": "19024def",
   "metadata": {},
   "outputs": [],
   "source": [
    "# Note that the ?t= is a query param\n",
    "\n",
    "url = \"https://apis.esganalytics.io/cqgyyyi33un9zstw/\""
   ]
  }
 ],
 "metadata": {
  "kernelspec": {
   "display_name": "Python 3",
   "language": "python",
   "name": "python3"
  },
  "language_info": {
   "codemirror_mode": {
    "name": "ipython",
    "version": 3
   },
   "file_extension": ".py",
   "mimetype": "text/x-python",
   "name": "python",
   "nbconvert_exporter": "python",
   "pygments_lexer": "ipython3",
   "version": "3.7.13"
  }
 },
 "nbformat": 4,
 "nbformat_minor": 5
}
